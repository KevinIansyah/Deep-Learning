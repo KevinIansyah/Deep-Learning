{
 "cells": [
  {
   "cell_type": "markdown",
   "id": "f025c112",
   "metadata": {},
   "source": [
    "# Prediksi Tingkat Kemiskinan dan Ketimpangan (TPT) di Indonesia"
   ]
  },
  {
   "cell_type": "code",
   "execution_count": 97,
   "id": "9682f481",
   "metadata": {},
   "outputs": [],
   "source": [
    "# Pendefinisian fungsi dan kelas yang digunakan \n",
    "# Import library keras dan lain-lain \n",
    "import numpy as np # For matrix math \n",
    "from numpy import loadtxt \n",
    "import matplotlib.pyplot as plt # For plotting \n",
    "import keras \n",
    "from keras.models import Sequential \n",
    "from keras.utils import to_categorical \n",
    "from keras.layers import Flatten, Dense, Activation \n",
    "from IPython.display import clear_output "
   ]
  },
  {
   "cell_type": "code",
   "execution_count": 98,
   "id": "4e219ae7",
   "metadata": {},
   "outputs": [],
   "source": [
    "def normalisasi(x):\n",
    "    a = np.max(x)\n",
    "    b = np.min(x)\n",
    "    for i in x:\n",
    "        hasil_normalisasi = (0.8 * (x - b))/(a-b) + 0.1\n",
    "    return hasil_normalisasi"
   ]
  },
  {
   "cell_type": "code",
   "execution_count": 99,
   "id": "4af8b6f9",
   "metadata": {},
   "outputs": [],
   "source": [
    "# load the data latih\n",
    "# Data Tingkat Kemiskinan dan Ketimpangan (TKK) mulai Tahun 2001\n",
    "# sampai dengan Tahun 2022\n",
    "\n",
    "TKK = loadtxt('data_kemiskinan.csv', delimiter=',')\n",
    "TKK_normal = normalisasi(TKK)\n",
    "\n",
    "TKK_Target = TKK[:,10]\n",
    "TKK_Target_Uji = TKK[:,11]\n",
    "\n",
    "# DATA PELATIHAN =================================\n",
    "# Data dibagi menjadi 10 variabel input (X) dan 1 variabel output (Y)\n",
    "# Input : mulai tahun 2001 sampai tahun 2020\n",
    "\n",
    "X = TKK_normal[:,0:10]\n",
    "\n",
    "# Output : data TPT tahun 2021 dan 2022\n",
    "\n",
    "Y = TKK_normal[:,10]\n",
    "\n",
    "# DATA UJI PREDIKSI=================================\n",
    "# Geser  dua tahun ke depan\n",
    "# Input : mulai tahun 2003 sampai tahun 2022\n",
    "# Untuk memprediksi TPT Tahun 2023 dan 2024\n",
    "\n",
    "X1 = TKK_normal[:,1:11]\n",
    "\n",
    "# Urut tahun, menggantikan indeks dari 0 s.d 1\n",
    "urut = [1,\n",
    "       2\n",
    "       ]"
   ]
  },
  {
   "cell_type": "code",
   "execution_count": 100,
   "id": "e3ccb946",
   "metadata": {},
   "outputs": [
    {
     "name": "stdout",
     "output_type": "stream",
     "text": [
      "[[47.97  37.9   37.3   35.1   37.17  32.53  29.955 28.31  28.55  27.175\n",
      "  24.965 27.02 ]\n",
      " [38.7   38.4   36.1   39.3   34.96  31.02  28.86  28.005 27.885 25.81\n",
      "  26.985 26.26 ]]\n"
     ]
    }
   ],
   "source": [
    "print(TKK)"
   ]
  },
  {
   "cell_type": "code",
   "execution_count": 101,
   "id": "cab94b17",
   "metadata": {},
   "outputs": [
    {
     "name": "stdout",
     "output_type": "stream",
     "text": [
      "[[0.9        0.54981526 0.52895023 0.45244512 0.52442947 0.36307324\n",
      "  0.27352749 0.21632254 0.22466855 0.17685286 0.1        0.17146273]\n",
      " [0.5776353  0.56720278 0.48722017 0.59850033 0.44757661 0.31056292\n",
      "  0.23544882 0.20571615 0.20154314 0.12938492 0.1702456  0.14503369]]\n"
     ]
    }
   ],
   "source": [
    "TPT_normal = normalisasi(TKK)\n",
    "print(TKK_normal)"
   ]
  },
  {
   "cell_type": "code",
   "execution_count": 102,
   "id": "84d92e1c",
   "metadata": {},
   "outputs": [
    {
     "name": "stdout",
     "output_type": "stream",
     "text": [
      "barisnya = 2\n",
      "kolomnya = 12\n"
     ]
    }
   ],
   "source": [
    "baris, kolom = TKK.shape\n",
    "print(\"barisnya =\",baris)\n",
    "print(\"kolomnya =\",kolom)"
   ]
  },
  {
   "cell_type": "code",
   "execution_count": 103,
   "id": "4801016f",
   "metadata": {},
   "outputs": [
    {
     "name": "stdout",
     "output_type": "stream",
     "text": [
      "barisnya = 2\n",
      "kolomnya = 12\n"
     ]
    }
   ],
   "source": [
    "baris, kolom = TKK_normal.shape\n",
    "print(\"barisnya =\",baris)\n",
    "print(\"kolomnya =\",kolom)"
   ]
  },
  {
   "cell_type": "code",
   "execution_count": 104,
   "id": "20ded9ff",
   "metadata": {},
   "outputs": [
    {
     "name": "stdout",
     "output_type": "stream",
     "text": [
      "barisnya = 2\n",
      "kolomnya = 10\n"
     ]
    }
   ],
   "source": [
    "baris, kolom = X.shape\n",
    "print(\"barisnya =\",baris)\n",
    "print(\"kolomnya =\",kolom)"
   ]
  },
  {
   "cell_type": "code",
   "execution_count": 105,
   "id": "1076b6d1",
   "metadata": {},
   "outputs": [],
   "source": [
    "# Mendefinisikan model keras\n",
    "model = Sequential()\n",
    "model.add(Dense(10, input_dim=10, activation='relu'))\n",
    "model.add(Dense(10, activation='relu'))\n",
    "model.add(Dense(10, activation='relu'))\n",
    "model.add(Dense(1, activation='sigmoid'))"
   ]
  },
  {
   "cell_type": "code",
   "execution_count": 106,
   "id": "c3cd7c2b",
   "metadata": {},
   "outputs": [],
   "source": [
    "# Proses kompilasi (pelatihan) Deep Learning\n",
    "model.compile(loss='mean_squared_error', optimizer='adam', metrics=['mean_squared_error'])"
   ]
  },
  {
   "cell_type": "code",
   "execution_count": 107,
   "id": "c513ed91",
   "metadata": {},
   "outputs": [],
   "source": [
    "class PlotLosses(keras.callbacks.Callback):\n",
    "    def on_train_begin(self, logs={}):\n",
    "        self.i = 0\n",
    "        self.x = []\n",
    "        self.losses = []\n",
    "        self.val_losses = []\n",
    "        \n",
    "        self.fig = plt.figure()\n",
    "        \n",
    "        self.logs = []\n",
    "\n",
    "    def on_epoch_end(self, epoch, logs={}):\n",
    "        \n",
    "        self.logs.append(logs)\n",
    "        self.x.append(self.i)\n",
    "        self.losses.append(logs.get('loss'))\n",
    "        self.val_losses.append(logs.get('val_loss'))\n",
    "        self.i += 1\n",
    "        \n",
    "        clear_output(wait=True)\n",
    "        plt.plot(self.x, self.losses, label=\"loss\")\n",
    "        plt.plot(self.x, self.val_losses, label=\"val_loss\")\n",
    "        plt.legend()\n",
    "        plt.grid()\n",
    "        plt.xlabel('epoch')\n",
    "        plt.ylabel('loss')\n",
    "        plt.show();\n",
    "        \n",
    "plot_losses = PlotLosses()"
   ]
  },
  {
   "cell_type": "code",
   "execution_count": 108,
   "id": "27876c8d",
   "metadata": {},
   "outputs": [
    {
     "data": {
      "image/png": "[encoded data removed]",
      "text/plain": [
       "<Figure size 640x480 with 1 Axes>"
      ]
     },
     "metadata": {},
     "output_type": "display_data"
    },
    {
     "data": {
      "text/plain": [
       "<keras.callbacks.History at 0x1fee74efcd0>"
      ]
     },
     "execution_count": 108,
     "metadata": {},
     "output_type": "execute_result"
    }
   ],
   "source": [
    "model.fit(X, Y,\n",
    "          epochs=500,\n",
    "          validation_data=(X, Y),\n",
    "          callbacks=[plot_losses],\n",
    "          verbose=0)"
   ]
  },
  {
   "cell_type": "code",
   "execution_count": 109,
   "id": "6294ca50",
   "metadata": {},
   "outputs": [
    {
     "name": "stdout",
     "output_type": "stream",
     "text": [
      "2/2 [==============================] - 0s 3ms/step - loss: 1.5968e-04 - mean_squared_error: 1.5968e-04\n",
      "MSE : 0.00\n"
     ]
    }
   ],
   "source": [
    "# evaluate the keras model\n",
    "# Evalusi hasil proses pelatihan Deep Learning\n",
    "# Hitung akurasi hasil pelatihan dalam bentuk Prosentase Keberhasilan\n",
    "# Prosentase Keberhasilan = 100 - MAPE\n",
    "\n",
    "#_, MAPE_pelatihan = model.evaluate(X_normal, Y_normal, batch_size=1)\n",
    "\n",
    "_, MSE = model.evaluate(X, Y, batch_size=1)\n",
    "\n",
    "#print('Prosentase_keberhasilan: %.2f' % (100-MAPE_pelatihan))\n",
    "\n",
    "print('MSE : %.2f' % (MSE))"
   ]
  },
  {
   "cell_type": "code",
   "execution_count": 110,
   "id": "c0f8b89c",
   "metadata": {},
   "outputs": [
    {
     "name": "stdout",
     "output_type": "stream",
     "text": [
      "1/1 [==============================] - 0s 31ms/step\n",
      "[[0.11346172]\n",
      " [0.15849209]]\n"
     ]
    }
   ],
   "source": [
    "# menjalankan fungsi prediksi\n",
    "y_pred = model.predict(X)\n",
    "print(y_pred)"
   ]
  },
  {
   "cell_type": "code",
   "execution_count": 111,
   "id": "aedd0211",
   "metadata": {},
   "outputs": [
    {
     "name": "stdout",
     "output_type": "stream",
     "text": [
      "y_prediksi = [[25.352108]\n",
      " [26.647013]]\n"
     ]
    }
   ],
   "source": [
    "# Denormalisasi Data sebelum dibandngkan\n",
    "\n",
    "a = np.max(TKK)\n",
    "b = np.min(TKK)\n",
    "\n",
    "# Rumus\n",
    "# x_denormalisasi = (((x_normalisasi - 0.1)*(a - b))/0.8) + b\n",
    "\n",
    "y_prediksi = (((y_pred - 0.1)*(a - b))/0.8) + b\n",
    "\n",
    "print(\"y_prediksi =\", y_prediksi)"
   ]
  },
  {
   "cell_type": "code",
   "execution_count": 116,
   "id": "4e27ec39",
   "metadata": {},
   "outputs": [],
   "source": [
    "# Urut tahun, menggantikan indeks dari 0 s.d 1\n",
    "urutan1 = ['2021',\n",
    "       '2022'\n",
    "       ]"
   ]
  },
  {
   "cell_type": "code",
   "execution_count": 127,
   "id": "59cef9e0",
   "metadata": {},
   "outputs": [
    {
     "data": {
      "image/png": "[encoded data removed]",
      "text/plain": [
       "<Figure size 640x480 with 1 Axes>"
      ]
     },
     "metadata": {},
     "output_type": "display_data"
    }
   ],
   "source": [
    "# Plot Keluaran Hasil Prediksi Tahap Pelatihan\n",
    "\n",
    "plt.title('Keluaran Hasil Prediksi Tahap Pelatihan')\n",
    "plt.plot(urutan1, TKK_Target, '-b', label='Target',linewidth=3, markersize=12)\n",
    "plt.plot(urutan1, y_prediksi, '--r', label='Prediksi', linewidth=3, markersize=12)\n",
    "plt.legend();\n",
    "plt.xlabel('Tahun')\n",
    "plt.ylabel('TKK (%)')\n",
    "plt.ylim((0,50))\n",
    "plt.grid()"
   ]
  },
  {
   "cell_type": "code",
   "execution_count": 118,
   "id": "1d3c8001",
   "metadata": {},
   "outputs": [
    {
     "data": {
      "image/png": "[encoded data removed]",
      "text/plain": [
       "<Figure size 640x480 with 1 Axes>"
      ]
     },
     "metadata": {},
     "output_type": "display_data"
    }
   ],
   "source": [
    "# Plot Kesalahan Prediksi\n",
    "\n",
    "selisih = TKK_Target - y_prediksi.transpose()\n",
    "plt.title('Kesalahan Prediksi Tahap Pelatihan')\n",
    "plt.plot(urutan1, selisih.transpose(), '-m', label='error', linewidth=3, markersize=12)\n",
    "plt.legend();\n",
    "plt.xlabel('Tahun')\n",
    "plt.ylabel('TKK (%)')\n",
    "plt.ylim((-2.5,2.5))\n",
    "plt.grid()"
   ]
  },
  {
   "cell_type": "code",
   "execution_count": 119,
   "id": "31b1b5ad",
   "metadata": {},
   "outputs": [
    {
     "name": "stdout",
     "output_type": "stream",
     "text": [
      "mse = 0.132044006401245\n",
      "rmse = 0.3633785992614934\n",
      "MAPE = 3.897924162154091\n",
      "Persentase_keberhasilan = 96.1020758378459\n"
     ]
    }
   ],
   "source": [
    "# Pengukuran kinerja Deep Learning\n",
    "\n",
    "from sklearn.metrics import mean_squared_error\n",
    "from math import sqrt\n",
    "mse  = mean_squared_error(TKK_Target, y_prediksi)\n",
    "rmse = sqrt(mse)\n",
    "print(\"mse =\",mse)\n",
    "print(\"rmse =\",rmse)\n",
    "\n",
    "def mean_absolute_percentage_error(y_true, y_pred):\n",
    "    y_true, y_pred = np.array(y_true), np.array(y_pred)\n",
    "    return np.mean(np.abs((y_true - y_pred) / y_true)) * 100\n",
    "\n",
    "MAPE = mean_absolute_percentage_error(TKK_Target, y_prediksi)\n",
    "print(\"MAPE =\",MAPE)\n",
    "\n",
    "Persentase_keberhasilan = 100-MAPE\n",
    "print(\"Persentase_keberhasilan =\", Persentase_keberhasilan)"
   ]
  },
  {
   "cell_type": "markdown",
   "id": "1dff7a09",
   "metadata": {},
   "source": [
    "# Prediksi TKK 2023 2024\n",
    "\n",
    "# Tahap Pengujian\n",
    "\n",
    "Input : mulai tahun 2003 sampai tahun 2022\n",
    "\n",
    "Untuk Memprediksi TPT di Tahun 2023 dan 2024"
   ]
  },
  {
   "cell_type": "code",
   "execution_count": 120,
   "id": "380dc033",
   "metadata": {},
   "outputs": [],
   "source": [
    "# Urut tahun, menggantikan indeks dari 0 s.d 1\n",
    "urutan2 = ['2023',\n",
    "       '2024'\n",
    "       ]"
   ]
  },
  {
   "cell_type": "code",
   "execution_count": 121,
   "id": "a6c8a700",
   "metadata": {},
   "outputs": [
    {
     "name": "stdout",
     "output_type": "stream",
     "text": [
      "1/1 [==============================] - 0s 25ms/step\n",
      "Hasil prediksi sebelum denormalisasi = [[0.16960081]\n",
      " [0.16579966]]\n"
     ]
    }
   ],
   "source": [
    "# Ujicoba prediksi\n",
    "y_uji = model.predict(X1)\n",
    "print('Hasil prediksi sebelum denormalisasi =', y_uji)"
   ]
  },
  {
   "cell_type": "code",
   "execution_count": 122,
   "id": "e9f291bc",
   "metadata": {},
   "outputs": [
    {
     "name": "stdout",
     "output_type": "stream",
     "text": [
      "y_pengujian = [[26.966457]\n",
      " [26.857151]]\n"
     ]
    }
   ],
   "source": [
    "# Denormalisasi Data sebelum dibandngkan\n",
    "\n",
    "a = np.max(TKK)\n",
    "b = np.min(TKK)\n",
    "\n",
    "# Rumus\n",
    "# x_denormalisasi = (((x_normalisasi - 0.1)*(a - b))/0.8) + b\n",
    "\n",
    "y_pengujian = (((y_uji - 0.1)*(a - b))/0.8) + b\n",
    "\n",
    "print(\"y_pengujian =\", y_pengujian)"
   ]
  },
  {
   "cell_type": "code",
   "execution_count": 124,
   "id": "fe44e645",
   "metadata": {},
   "outputs": [
    {
     "data": {
      "image/png": "[encoded data removed]",
      "text/plain": [
       "<Figure size 640x480 with 1 Axes>"
      ]
     },
     "metadata": {},
     "output_type": "display_data"
    }
   ],
   "source": [
    "# Plot keluaran hasil prediksi Tahap Pengujian\n",
    "\n",
    "plt.title('Hasil Prediksi Tahap Pengujian')\n",
    "plt.plot(urutan2,  TKK_Target_Uji, '-b', label='Yang diinginkan',linewidth=3, markersize=12)\n",
    "plt.plot(urutan2, y_pengujian, '--r', label='Prediksi', linewidth=3, markersize=12)\n",
    "plt.legend();\n",
    "plt.xlabel('Tahun')\n",
    "plt.ylabel('TPT (%)')\n",
    "plt.ylim((0,50))\n",
    "plt.grid()"
   ]
  },
  {
   "cell_type": "code",
   "execution_count": 125,
   "id": "88452dd2",
   "metadata": {},
   "outputs": [
    {
     "data": {
      "image/png": "[encoded data removed]",
      "text/plain": [
       "<Figure size 640x480 with 1 Axes>"
      ]
     },
     "metadata": {},
     "output_type": "display_data"
    }
   ],
   "source": [
    "# Plot kesalahan prediksi Tahap Pengujian\n",
    "\n",
    "selisih_pengujian = TKK_Target_Uji - y_pengujian.transpose()\n",
    "plt.title('Kesalahan Prediksi Tahap Pengujian')\n",
    "plt.plot(urutan2, selisih_pengujian.transpose(), '-m', label='error', linewidth=3, markersize=12)\n",
    "plt.legend();\n",
    "plt.xlabel('Tahun')\n",
    "plt.ylabel('TKK (%)')\n",
    "plt.ylim((-7,7))\n",
    "plt.grid()"
   ]
  },
  {
   "cell_type": "code",
   "execution_count": 126,
   "id": "81df0fb8",
   "metadata": {},
   "outputs": [
    {
     "name": "stdout",
     "output_type": "stream",
     "text": [
      "mse = 0.17972808398457615\n",
      "rmse = 0.42394349149925176\n",
      "MAPE = 1.4412733108057245\n",
      "Persentase_keberhasilan = 98.55872668919427\n"
     ]
    }
   ],
   "source": [
    "# Pengukuran kinerja Deep Learning Tahap Pengujian\n",
    "\n",
    "from sklearn.metrics import mean_squared_error\n",
    "from math import sqrt\n",
    "mse1  = mean_squared_error(TKK_Target_Uji, y_pengujian)\n",
    "rmse1 = sqrt(mse1)\n",
    "print(\"mse =\",mse1)\n",
    "print(\"rmse =\",rmse1)\n",
    "\n",
    "MAPE = mean_absolute_percentage_error(TKK_Target_Uji, y_pengujian)\n",
    "print(\"MAPE =\",MAPE)\n",
    "\n",
    "Persentase_keberhasilan = 100-MAPE\n",
    "print(\"Persentase_keberhasilan =\", Persentase_keberhasilan)"
   ]
  }
 ],
 "metadata": {
  "kernelspec": {
   "display_name": "Python 3 (ipykernel)",
   "language": "python",
   "name": "python3"
  },
  "language_info": {
   "codemirror_mode": {
    "name": "ipython",
    "version": 3
   },
   "file_extension": ".py",
   "mimetype": "text/x-python",
   "name": "python",
   "nbconvert_exporter": "python",
   "pygments_lexer": "ipython3",
   "version": "3.10.5"
  }
 },
 "nbformat": 4,
 "nbformat_minor": 5
}
